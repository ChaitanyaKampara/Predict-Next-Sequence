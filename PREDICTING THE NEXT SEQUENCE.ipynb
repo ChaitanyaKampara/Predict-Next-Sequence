{
 "cells": [
  {
   "cell_type": "code",
   "execution_count": 2,
   "metadata": {
    "colab": {
     "base_uri": "https://localhost:8080/"
    },
    "executionInfo": {
     "elapsed": 8420,
     "status": "ok",
     "timestamp": 1643627861934,
     "user": {
      "displayName": "siddharth patra",
      "photoUrl": "https://lh3.googleusercontent.com/a-/AOh14Ggv4lQRGyP7p3T0gn2CLL_T-zAq_F4BJx6kWGs1UA=s64",
      "userId": "01966341811263607507"
     },
     "user_tz": -330
    },
    "id": "sFpru3553_uJ",
    "outputId": "920591f6-f4c3-4938-b4b6-97274237f779"
   },
   "outputs": [
    {
     "name": "stdout",
     "output_type": "stream",
     "text": [
      "Drive already mounted at /content/drive; to attempt to forcibly remount, call drive.mount(\"/content/drive\", force_remount=True).\n"
     ]
    }
   ],
   "source": [
    "from google.colab import drive\n",
    "drive.mount('/content/drive')"
   ]
  },
  {
   "cell_type": "code",
   "execution_count": 2,
   "metadata": {
    "executionInfo": {
     "elapsed": 2407,
     "status": "ok",
     "timestamp": 1643627864327,
     "user": {
      "displayName": "siddharth patra",
      "photoUrl": "https://lh3.googleusercontent.com/a-/AOh14Ggv4lQRGyP7p3T0gn2CLL_T-zAq_F4BJx6kWGs1UA=s64",
      "userId": "01966341811263607507"
     },
     "user_tz": -330
    },
    "id": "kMNOfweB4Ack"
   },
   "outputs": [],
   "source": [
    "import numpy as np\n",
    "# CONSISTS MULTI DIMENTIONAL ARRAYS\n",
    "# USED FOR MATHEMATICAL,LOGICAL OPERATORS\n",
    "\n",
    "import matplotlib.pyplot as plt\n",
    "# PLOTTING , EXTENTION OF NUMpy \n",
    "# PROVIDES API FOR EMBEDDING PLOTS INTO GUI(TKINTER OR GTK)\n",
    "\n",
    "import pandas as pd\n",
    "# USED FOR MANPULATING DATA\n",
    "\n",
    "import seaborn as sns\n",
    "# FOR VISUALIZATION\n",
    "# HAS BETTER \"COLOR PALETTE\" AND MORE VARITY OF GRAPHS\n",
    "\n",
    "import tensorflow as tf\n",
    "# LIKE SKLEARN IN ML : TENORFLOW IN DL\n",
    "from tensorflow import keras\n",
    "from tensorflow.keras import layers"
   ]
  },
  {
   "cell_type": "code",
   "execution_count": 3,
   "metadata": {
    "colab": {
     "base_uri": "https://localhost:8080/"
    },
    "executionInfo": {
     "elapsed": 27,
     "status": "ok",
     "timestamp": 1643627864328,
     "user": {
      "displayName": "siddharth patra",
      "photoUrl": "https://lh3.googleusercontent.com/a-/AOh14Ggv4lQRGyP7p3T0gn2CLL_T-zAq_F4BJx6kWGs1UA=s64",
      "userId": "01966341811263607507"
     },
     "user_tz": -330
    },
    "id": "oyggzxjG4Ibb",
    "outputId": "4b77340f-4e74-47b1-a8cf-4f56c241f1af"
   },
   "outputs": [
    {
     "name": "stdout",
     "output_type": "stream",
     "text": [
      "[10, 20, 30, 40, 50, 60, 70, 80, 90, 100, 110, 120, 130, 140, 150, 160, 170, 180, 190, 200]\n"
     ]
    }
   ],
   "source": [
    "data = [10, 20, 30, 40, 50, 60, 70, 80, 90, 100, 110, 120, 130, 140, 150, 160, 170, 180, 190, 200]\n",
    "print(data)"
   ]
  },
  {
   "cell_type": "code",
   "execution_count": 4,
   "metadata": {
    "executionInfo": {
     "elapsed": 23,
     "status": "ok",
     "timestamp": 1643627864328,
     "user": {
      "displayName": "siddharth patra",
      "photoUrl": "https://lh3.googleusercontent.com/a-/AOh14Ggv4lQRGyP7p3T0gn2CLL_T-zAq_F4BJx6kWGs1UA=s64",
      "userId": "01966341811263607507"
     },
     "user_tz": -330
    },
    "id": "L7XVVnfO4Npf"
   },
   "outputs": [],
   "source": [
    "def splitSequence(seq, n_steps):\n",
    "    \n",
    "    #Declare X and y as empty list\n",
    "    X = []\n",
    "    y = []\n",
    "    \n",
    "    for i in range(len(seq)):\n",
    "        #get the last index\n",
             #n_steps are Timesteps\n",
    "        lastIndex = i + n_steps\n",
    "        \n",
    "        #if lastIndex is greater than length of sequence then break\n",
    "        if lastIndex > len(seq) - 1:\n",
    "            break\n",
    "            \n",
    "        #Create input and output sequence\n",
    "        seq_X, seq_y = seq[i:lastIndex], seq[lastIndex]\n",
    "        \n",
    "        #append seq_X, seq_y in X and y list\n",
    "        X.append(seq_X)\n",
    "        y.append(seq_y)\n",
    "        pass\n",
    "    #Convert X and y into numpy array\n",
    "    X = np.array(X)\n",
    "    y = np.array(y)\n",
    "    \n",
    "    return X,y"
   ]
  },
  {
   "cell_type": "code",
   "execution_count": 5,
   "metadata": {
    "executionInfo": {
     "elapsed": 22,
     "status": "ok",
     "timestamp": 1643627864329,
     "user": {
      "displayName": "siddharth patra",
      "photoUrl": "https://lh3.googleusercontent.com/a-/AOh14Ggv4lQRGyP7p3T0gn2CLL_T-zAq_F4BJx6kWGs1UA=s64",
      "userId": "01966341811263607507"
     },
     "user_tz": -330
    },
    "id": "khop6znl4RrN"
   },
   "outputs": [],
   "source": [
    "n_steps = 7\n",
    "X, y = splitSequence(data, n_steps)"
   ]
  },
  {
   "cell_type": "code",
   "execution_count": 6,
   "metadata": {
    "colab": {
     "base_uri": "https://localhost:8080/"
    },
    "executionInfo": {
     "elapsed": 22,
     "status": "ok",
     "timestamp": 1643627864330,
     "user": {
      "displayName": "siddharth patra",
      "photoUrl": "https://lh3.googleusercontent.com/a-/AOh14Ggv4lQRGyP7p3T0gn2CLL_T-zAq_F4BJx6kWGs1UA=s64",
      "userId": "01966341811263607507"
     },
     "user_tz": -330
    },
    "id": "MVzj0xWE4UKO",
    "outputId": "6a300849-9bec-40ed-85fb-313fb47dc091"
   },
   "outputs": [
    {
     "name": "stdout",
     "output_type": "stream",
     "text": [
      "[[ 10  20  30  40  50  60  70]\n",
      " [ 20  30  40  50  60  70  80]\n",
      " [ 30  40  50  60  70  80  90]\n",
      " [ 40  50  60  70  80  90 100]\n",
      " [ 50  60  70  80  90 100 110]\n",
      " [ 60  70  80  90 100 110 120]\n",
      " [ 70  80  90 100 110 120 130]\n",
      " [ 80  90 100 110 120 130 140]\n",
      " [ 90 100 110 120 130 140 150]\n",
      " [100 110 120 130 140 150 160]\n",
      " [110 120 130 140 150 160 170]\n",
      " [120 130 140 150 160 170 180]\n",
      " [130 140 150 160 170 180 190]]\n"
     ]
    }
   ],
   "source": [
    "print(X)"
   ]
  },
  {
   "cell_type": "code",
   "execution_count": 7,
   "metadata": {
    "colab": {
     "base_uri": "https://localhost:8080/"
    },
    "executionInfo": {
     "elapsed": 17,
     "status": "ok",
     "timestamp": 1643627864330,
     "user": {
      "displayName": "siddharth patra",
      "photoUrl": "https://lh3.googleusercontent.com/a-/AOh14Ggv4lQRGyP7p3T0gn2CLL_T-zAq_F4BJx6kWGs1UA=s64",
      "userId": "01966341811263607507"
     },
     "user_tz": -330
    },
    "id": "orlsqyY34WEj",
    "outputId": "8931cbd1-bbcf-4ea2-dea4-cde0d1d0b805"
   },
   "outputs": [
    {
     "name": "stdout",
     "output_type": "stream",
     "text": [
      "[ 80  90 100 110 120 130 140 150 160 170 180 190 200]\n"
     ]
    }
   ],
   "source": [
    "print(y)"
   ]
  },
  {
   "cell_type": "code",
   "execution_count": 8,
   "metadata": {
    "colab": {
     "base_uri": "https://localhost:8080/"
    },
    "executionInfo": {
     "elapsed": 14,
     "status": "ok",
     "timestamp": 1643627864331,
     "user": {
      "displayName": "siddharth patra",
      "photoUrl": "https://lh3.googleusercontent.com/a-/AOh14Ggv4lQRGyP7p3T0gn2CLL_T-zAq_F4BJx6kWGs1UA=s64",
      "userId": "01966341811263607507"
     },
     "user_tz": -330
    },
    "id": "cKZFgIbu4ctR",
    "outputId": "9e4bb6a9-2c13-47a0-be49-5b9660aed752"
   },
   "outputs": [
    {
     "name": "stdout",
     "output_type": "stream",
     "text": [
      "[[[10]\n",
      "  [20]\n",
      "  [30]\n",
      "  [40]\n",
      "  [50]\n",
      "  [60]\n",
      "  [70]]\n",
      "\n",
      " [[20]\n",
      "  [30]\n",
      "  [40]\n",
      "  [50]\n",
      "  [60]\n",
      "  [70]\n",
      "  [80]]]\n"
     ]
    }
   ],
   "source": [
    "# reshape from [samples, timesteps] into [samples, timesteps, features]\n",
    "n_features = 1\n",
    "X = X.reshape((X.shape[0], X.shape[1], n_features))\n",
    "print(X[:2])"
   ]
  },
  {
   "cell_type": "code",
   "execution_count": 9,
   "metadata": {
    "executionInfo": {
     "elapsed": 12,
     "status": "ok",
     "timestamp": 1643627864332,
     "user": {
      "displayName": "siddharth patra",
      "photoUrl": "https://lh3.googleusercontent.com/a-/AOh14Ggv4lQRGyP7p3T0gn2CLL_T-zAq_F4BJx6kWGs1UA=s64",
      "userId": "01966341811263607507"
     },
     "user_tz": -330
    },
    "id": "emAX6Ss740jn"
   },
   "outputs": [],
   "source": [
    "# Creating the model:\n",
    "# Adding an LSTM layer to the model\n",
    "\n",
    "# TIMESTEP :  It means that at each time step, the LSTM unit takes in the data from that specific point in the sequence\n",
    "#             and updates its state based on the current input and its previous state."
   ]
  },
  {
   "cell_type": "code",
   "execution_count": 10,
   "metadata": {
    "executionInfo": {
     "elapsed": 729,
     "status": "ok",
     "timestamp": 1643627865050,
     "user": {
      "displayName": "siddharth patra",
      "photoUrl": "https://lh3.googleusercontent.com/a-/AOh14Ggv4lQRGyP7p3T0gn2CLL_T-zAq_F4BJx6kWGs1UA=s64",
      "userId": "01966341811263607507"
     },
     "user_tz": -330
    },
    "id": "CQxy1W_244Q5"
   },
   "outputs": [],
   "source": [
    "model = tf.keras.Sequential()\n",
    "model.add(layers.LSTM(50, activation='relu', input_shape=(n_steps, n_features)))\n",
    "model.add(layers.Dense(1))\n"
   ]
  },
  {
   "cell_type": "code",
   "execution_count": 11,
   "metadata": {},
   "outputs": [],
   "source": [
    "### (1)layers: 1.)   This is an import statement for Keras layers. \n",
    "###            2.)   Keras provides various layers for building neural networks, and \"LSTM\" is one of them.\n",
    "\n",
    "###  (2)50  :        No of LSTM neurons in this layer.\n",
    "###  (3)n_steps :    No of time steps in the sequence \n",
    "###  ex         :    if n_steps= 3 => This means you'd create input sequences like [10, 20, 30], [20, 30, 40], [30, 40, 50],........\n",
    "###  (4)n_features : No of features at each time step.\n",
    "###  ex         :    Numerical 1 feature only\n",
    "\n",
    "###  layers.Dense(1) :  o/p contains 1 neuron"
   ]
  },
  {
   "cell_type": "code",
   "execution_count": 12,
   "metadata": {
    "colab": {
     "base_uri": "https://localhost:8080/"
    },
    "executionInfo": {
     "elapsed": 23,
     "status": "ok",
     "timestamp": 1643627865051,
     "user": {
      "displayName": "siddharth patra",
      "photoUrl": "https://lh3.googleusercontent.com/a-/AOh14Ggv4lQRGyP7p3T0gn2CLL_T-zAq_F4BJx6kWGs1UA=s64",
      "userId": "01966341811263607507"
     },
     "user_tz": -330
    },
    "id": "q2oZWuCH46wN",
    "outputId": "93cca893-0218-4189-e579-93d92a467b7c"
   },
   "outputs": [
    {
     "name": "stdout",
     "output_type": "stream",
     "text": [
      "Model: \"sequential\"\n",
      "_________________________________________________________________\n",
      " Layer (type)                Output Shape              Param #   \n",
      "=================================================================\n",
      " lstm (LSTM)                 (None, 50)                10400     \n",
      "                                                                 \n",
      " dense (Dense)               (None, 1)                 51        \n",
      "                                                                 \n",
      "=================================================================\n",
      "Total params: 10451 (40.82 KB)\n",
      "Trainable params: 10451 (40.82 KB)\n",
      "Non-trainable params: 0 (0.00 Byte)\n",
      "_________________________________________________________________\n"
     ]
    }
   ],
   "source": [
    "model.summary()"
   ]
  },
  {
   "cell_type": "code",
   "execution_count": 86,
   "metadata": {
    "executionInfo": {
     "elapsed": 21,
     "status": "ok",
     "timestamp": 1643627865052,
     "user": {
      "displayName": "siddharth patra",
      "photoUrl": "https://lh3.googleusercontent.com/a-/AOh14Ggv4lQRGyP7p3T0gn2CLL_T-zAq_F4BJx6kWGs1UA=s64",
      "userId": "01966341811263607507"
     },
     "user_tz": -330
    },
    "id": "nupRqs0A49Og"
   },
   "outputs": [],
   "source": [
    "from sklearn.model_selection import train_test_split\n",
    "\n",
    "X_train, X_test, y_train, y_test = train_test_split(X, y, test_size=0.2 , random_state=71)"
   ]
  },
  {
   "cell_type": "code",
   "execution_count": 87,
   "metadata": {
    "executionInfo": {
     "elapsed": 8,
     "status": "ok",
     "timestamp": 1643628688996,
     "user": {
      "displayName": "siddharth patra",
      "photoUrl": "https://lh3.googleusercontent.com/a-/AOh14Ggv4lQRGyP7p3T0gn2CLL_T-zAq_F4BJx6kWGs1UA=s64",
      "userId": "01966341811263607507"
     },
     "user_tz": -330
    },
    "id": "dq-KTgUS5B-C"
   },
   "outputs": [],
   "source": [
    "# compiling our model with good OPTIMIZER and LOSS FUNCTION\n",
    "model.compile(optimizer=tf.keras.optimizers.Adam(0.001), loss=tf.keras.losses.MeanSquaredError())"
   ]
  },
  {
   "cell_type": "code",
   "execution_count": 88,
   "metadata": {},
   "outputs": [],
   "source": [
    "# learning rate(alpha) = 0.001 \n",
    "\n",
    "# optimizers = adjusts model's parameters\n",
    "#              optimizer's job is to minimize this loss function\n",
    "#              tunes the model to make it better at its task."
   ]
  },
  {
   "cell_type": "code",
   "execution_count": 89,
   "metadata": {
    "colab": {
     "base_uri": "https://localhost:8080/"
    },
    "executionInfo": {
     "elapsed": 5906,
     "status": "ok",
     "timestamp": 1643628700611,
     "user": {
      "displayName": "siddharth patra",
      "photoUrl": "https://lh3.googleusercontent.com/a-/AOh14Ggv4lQRGyP7p3T0gn2CLL_T-zAq_F4BJx6kWGs1UA=s64",
      "userId": "01966341811263607507"
     },
     "user_tz": -330
    },
    "id": "CK8Vb4xd5FN-",
    "outputId": "d7f80576-987e-431b-b6ca-c956f1e793f5"
   },
   "outputs": [
    {
     "name": "stdout",
     "output_type": "stream",
     "text": [
      "Fit model on training data\n",
      "Epoch 1/100\n",
      "1/1 [==============================] - 2s 2s/step - loss: 0.1299 - val_loss: 32.5710\n",
      "Epoch 2/100\n",
      "1/1 [==============================] - 0s 24ms/step - loss: 62.4986 - val_loss: 3.3126\n",
      "Epoch 3/100\n",
      "1/1 [==============================] - 0s 26ms/step - loss: 5.7289 - val_loss: 34.1662\n",
      "Epoch 4/100\n",
      "1/1 [==============================] - 0s 23ms/step - loss: 30.7570 - val_loss: 42.5547\n",
      "Epoch 5/100\n",
      "1/1 [==============================] - 0s 26ms/step - loss: 38.3112 - val_loss: 24.2259\n",
      "Epoch 6/100\n",
      "1/1 [==============================] - 0s 26ms/step - loss: 20.4807 - val_loss: 4.2933\n",
      "Epoch 7/100\n",
      "1/1 [==============================] - 0s 25ms/step - loss: 3.9153 - val_loss: 1.1722\n",
      "Epoch 8/100\n",
      "1/1 [==============================] - 0s 25ms/step - loss: 7.9914 - val_loss: 8.5571\n",
      "Epoch 9/100\n",
      "1/1 [==============================] - 0s 27ms/step - loss: 18.0488 - val_loss: 9.2057\n",
      "Epoch 10/100\n",
      "1/1 [==============================] - 0s 24ms/step - loss: 16.6884 - val_loss: 3.3971\n",
      "Epoch 11/100\n",
      "1/1 [==============================] - 0s 25ms/step - loss: 7.4545 - val_loss: 0.0060\n",
      "Epoch 12/100\n",
      "1/1 [==============================] - 0s 25ms/step - loss: 0.9177 - val_loss: 2.8939\n",
      "Epoch 13/100\n",
      "1/1 [==============================] - 0s 25ms/step - loss: 1.5333 - val_loss: 8.6322\n",
      "Epoch 14/100\n",
      "1/1 [==============================] - 0s 30ms/step - loss: 5.9898 - val_loss: 11.8377\n",
      "Epoch 15/100\n",
      "1/1 [==============================] - 0s 28ms/step - loss: 8.8512 - val_loss: 10.2503\n",
      "Epoch 16/100\n",
      "1/1 [==============================] - 0s 26ms/step - loss: 7.7815 - val_loss: 5.6234\n",
      "Epoch 17/100\n",
      "1/1 [==============================] - 0s 24ms/step - loss: 4.4700 - val_loss: 1.4784\n",
      "Epoch 18/100\n",
      "1/1 [==============================] - 0s 25ms/step - loss: 2.2443 - val_loss: 0.1188\n",
      "Epoch 19/100\n",
      "1/1 [==============================] - 0s 24ms/step - loss: 2.9085 - val_loss: 0.9324\n",
      "Epoch 20/100\n",
      "1/1 [==============================] - 0s 26ms/step - loss: 5.0900 - val_loss: 1.5678\n",
      "Epoch 21/100\n",
      "1/1 [==============================] - 0s 24ms/step - loss: 5.8547 - val_loss: 0.9176\n",
      "Epoch 22/100\n",
      "1/1 [==============================] - 0s 25ms/step - loss: 4.2048 - val_loss: 0.0665\n",
      "Epoch 23/100\n",
      "1/1 [==============================] - 0s 24ms/step - loss: 1.8860 - val_loss: 0.3924\n",
      "Epoch 24/100\n",
      "1/1 [==============================] - 0s 26ms/step - loss: 0.9243 - val_loss: 1.8004\n",
      "Epoch 25/100\n",
      "1/1 [==============================] - 0s 27ms/step - loss: 1.5518 - val_loss: 2.9650\n",
      "Epoch 26/100\n",
      "1/1 [==============================] - 0s 28ms/step - loss: 2.4651 - val_loss: 2.8159\n",
      "Epoch 27/100\n",
      "1/1 [==============================] - 0s 24ms/step - loss: 2.4523 - val_loss: 1.5536\n",
      "Epoch 28/100\n",
      "1/1 [==============================] - 0s 28ms/step - loss: 1.5169 - val_loss: 0.3617\n",
      "Epoch 29/100\n",
      "1/1 [==============================] - 0s 37ms/step - loss: 0.6630 - val_loss: 0.2612\n",
      "Epoch 30/100\n",
      "1/1 [==============================] - 0s 32ms/step - loss: 0.7774 - val_loss: 1.0372\n",
      "Epoch 31/100\n",
      "1/1 [==============================] - 0s 27ms/step - loss: 1.6325 - val_loss: 1.5077\n",
      "Epoch 32/100\n",
      "1/1 [==============================] - 0s 24ms/step - loss: 2.1014 - val_loss: 1.0915\n",
      "Epoch 33/100\n",
      "1/1 [==============================] - 0s 28ms/step - loss: 1.6510 - val_loss: 0.3953\n",
      "Epoch 34/100\n",
      "1/1 [==============================] - 0s 25ms/step - loss: 0.9237 - val_loss: 0.2125\n",
      "Epoch 35/100\n",
      "1/1 [==============================] - 0s 24ms/step - loss: 0.7155 - val_loss: 0.5608\n",
      "Epoch 36/100\n",
      "1/1 [==============================] - 0s 25ms/step - loss: 1.0313 - val_loss: 0.8496\n",
      "Epoch 37/100\n",
      "1/1 [==============================] - 0s 26ms/step - loss: 1.2822 - val_loss: 0.6777\n",
      "Epoch 38/100\n",
      "1/1 [==============================] - 0s 32ms/step - loss: 1.0696 - val_loss: 0.2538\n",
      "Epoch 39/100\n",
      "1/1 [==============================] - 0s 30ms/step - loss: 0.5987 - val_loss: 0.0677\n",
      "Epoch 40/100\n",
      "1/1 [==============================] - 0s 28ms/step - loss: 0.3755 - val_loss: 0.2702\n",
      "Epoch 41/100\n",
      "1/1 [==============================] - 0s 25ms/step - loss: 0.5836 - val_loss: 0.4975\n",
      "Epoch 42/100\n",
      "1/1 [==============================] - 0s 26ms/step - loss: 0.8537 - val_loss: 0.3980\n",
      "Epoch 43/100\n",
      "1/1 [==============================] - 0s 33ms/step - loss: 0.7825 - val_loss: 0.1151\n",
      "Epoch 44/100\n",
      "1/1 [==============================] - 0s 35ms/step - loss: 0.4990 - val_loss: 0.0202\n",
      "Epoch 45/100\n",
      "1/1 [==============================] - 0s 24ms/step - loss: 0.4004 - val_loss: 0.1781\n",
      "Epoch 46/100\n",
      "1/1 [==============================] - 0s 25ms/step - loss: 0.5602 - val_loss: 0.3145\n",
      "Epoch 47/100\n",
      "1/1 [==============================] - 0s 25ms/step - loss: 0.6961 - val_loss: 0.2323\n",
      "Epoch 48/100\n",
      "1/1 [==============================] - 0s 27ms/step - loss: 0.6029 - val_loss: 0.0555\n",
      "Epoch 49/100\n",
      "1/1 [==============================] - 0s 25ms/step - loss: 0.4019 - val_loss: 0.0213\n",
      "Epoch 50/100\n",
      "1/1 [==============================] - 0s 30ms/step - loss: 0.3370 - val_loss: 0.1450\n",
      "Epoch 51/100\n",
      "1/1 [==============================] - 0s 26ms/step - loss: 0.4298 - val_loss: 0.2224\n",
      "Epoch 52/100\n",
      "1/1 [==============================] - 0s 24ms/step - loss: 0.4736 - val_loss: 0.1452\n",
      "Epoch 53/100\n",
      "1/1 [==============================] - 0s 26ms/step - loss: 0.3674 - val_loss: 0.0361\n",
      "Epoch 54/100\n",
      "1/1 [==============================] - 0s 25ms/step - loss: 0.2534 - val_loss: 0.0282\n",
      "Epoch 55/100\n",
      "1/1 [==============================] - 0s 23ms/step - loss: 0.2658 - val_loss: 0.0790\n",
      "Epoch 56/100\n",
      "1/1 [==============================] - 0s 26ms/step - loss: 0.3385 - val_loss: 0.0781\n",
      "Epoch 57/100\n",
      "1/1 [==============================] - 0s 26ms/step - loss: 0.3373 - val_loss: 0.0301\n",
      "Epoch 58/100\n",
      "1/1 [==============================] - 0s 33ms/step - loss: 0.2609 - val_loss: 0.0299\n",
      "Epoch 59/100\n",
      "1/1 [==============================] - 0s 26ms/step - loss: 0.2194 - val_loss: 0.0961\n",
      "Epoch 60/100\n",
      "1/1 [==============================] - 0s 25ms/step - loss: 0.2536 - val_loss: 0.1344\n",
      "Epoch 61/100\n",
      "1/1 [==============================] - 0s 29ms/step - loss: 0.2785 - val_loss: 0.0876\n",
      "Epoch 62/100\n",
      "1/1 [==============================] - 0s 29ms/step - loss: 0.2327 - val_loss: 0.0203\n",
      "Epoch 63/100\n",
      "1/1 [==============================] - 0s 26ms/step - loss: 0.1755 - val_loss: 0.0072\n",
      "Epoch 64/100\n",
      "1/1 [==============================] - 0s 24ms/step - loss: 0.1742 - val_loss: 0.0275\n",
      "Epoch 65/100\n",
      "1/1 [==============================] - 0s 24ms/step - loss: 0.1964 - val_loss: 0.0250\n",
      "Epoch 66/100\n",
      "1/1 [==============================] - 0s 25ms/step - loss: 0.1810 - val_loss: 0.0049\n",
      "Epoch 67/100\n",
      "1/1 [==============================] - 0s 24ms/step - loss: 0.1424 - val_loss: 0.0076\n",
      "Epoch 68/100\n",
      "1/1 [==============================] - 0s 25ms/step - loss: 0.1355 - val_loss: 0.0283\n",
      "Epoch 69/100\n",
      "1/1 [==============================] - 0s 26ms/step - loss: 0.1561 - val_loss: 0.0295\n",
      "Epoch 70/100\n",
      "1/1 [==============================] - 0s 28ms/step - loss: 0.1544 - val_loss: 0.0122\n",
      "Epoch 71/100\n",
      "1/1 [==============================] - 0s 25ms/step - loss: 0.1273 - val_loss: 0.0095\n",
      "Epoch 72/100\n",
      "1/1 [==============================] - 0s 27ms/step - loss: 0.1153 - val_loss: 0.0237\n",
      "Epoch 73/100\n",
      "1/1 [==============================] - 0s 23ms/step - loss: 0.1246 - val_loss: 0.0265\n",
      "Epoch 74/100\n",
      "1/1 [==============================] - 0s 27ms/step - loss: 0.1222 - val_loss: 0.0138\n",
      "Epoch 75/100\n",
      "1/1 [==============================] - 0s 25ms/step - loss: 0.1014 - val_loss: 0.0107\n",
      "Epoch 76/100\n",
      "1/1 [==============================] - 0s 24ms/step - loss: 0.0903 - val_loss: 0.0228\n",
      "Epoch 77/100\n",
      "1/1 [==============================] - 0s 26ms/step - loss: 0.0964 - val_loss: 0.0283\n",
      "Epoch 78/100\n",
      "1/1 [==============================] - 0s 24ms/step - loss: 0.0967 - val_loss: 0.0190\n",
      "Epoch 79/100\n",
      "1/1 [==============================] - 0s 24ms/step - loss: 0.0841 - val_loss: 0.0112\n",
      "Epoch 80/100\n",
      "1/1 [==============================] - 0s 24ms/step - loss: 0.0776 - val_loss: 0.0129\n",
      "Epoch 81/100\n",
      "1/1 [==============================] - 0s 31ms/step - loss: 0.0821 - val_loss: 0.0148\n",
      "Epoch 82/100\n",
      "1/1 [==============================] - 0s 27ms/step - loss: 0.0812 - val_loss: 0.0149\n",
      "Epoch 83/100\n"
     ]
    },
    {
     "name": "stdout",
     "output_type": "stream",
     "text": [
      "1/1 [==============================] - 0s 31ms/step - loss: 0.0712 - val_loss: 0.0221\n",
      "Epoch 84/100\n",
      "1/1 [==============================] - 0s 29ms/step - loss: 0.0658 - val_loss: 0.0342\n",
      "Epoch 85/100\n",
      "1/1 [==============================] - 0s 28ms/step - loss: 0.0678 - val_loss: 0.0382\n",
      "Epoch 86/100\n",
      "1/1 [==============================] - 0s 26ms/step - loss: 0.0656 - val_loss: 0.0331\n",
      "Epoch 87/100\n",
      "1/1 [==============================] - 0s 38ms/step - loss: 0.0584 - val_loss: 0.0298\n",
      "Epoch 88/100\n",
      "1/1 [==============================] - 0s 26ms/step - loss: 0.0560 - val_loss: 0.0316\n",
      "Epoch 89/100\n",
      "1/1 [==============================] - 0s 28ms/step - loss: 0.0579 - val_loss: 0.0344\n",
      "Epoch 90/100\n",
      "1/1 [==============================] - 0s 24ms/step - loss: 0.0560 - val_loss: 0.0389\n",
      "Epoch 91/100\n",
      "1/1 [==============================] - 0s 27ms/step - loss: 0.0514 - val_loss: 0.0477\n",
      "Epoch 92/100\n",
      "1/1 [==============================] - 0s 28ms/step - loss: 0.0506 - val_loss: 0.0553\n",
      "Epoch 93/100\n",
      "1/1 [==============================] - 0s 24ms/step - loss: 0.0514 - val_loss: 0.0550\n",
      "Epoch 94/100\n",
      "1/1 [==============================] - 0s 28ms/step - loss: 0.0487 - val_loss: 0.0495\n",
      "Epoch 95/100\n",
      "1/1 [==============================] - 0s 25ms/step - loss: 0.0454 - val_loss: 0.0457\n",
      "Epoch 96/100\n",
      "1/1 [==============================] - 0s 24ms/step - loss: 0.0453 - val_loss: 0.0454\n",
      "Epoch 97/100\n",
      "1/1 [==============================] - 0s 26ms/step - loss: 0.0453 - val_loss: 0.0487\n",
      "Epoch 98/100\n",
      "1/1 [==============================] - 0s 24ms/step - loss: 0.0432 - val_loss: 0.0561\n",
      "Epoch 99/100\n",
      "1/1 [==============================] - 0s 24ms/step - loss: 0.0418 - val_loss: 0.0640\n",
      "Epoch 100/100\n",
      "1/1 [==============================] - 0s 25ms/step - loss: 0.0423 - val_loss: 0.0665\n"
     ]
    }
   ],
   "source": [
    "# Training the model\n",
    "\n",
    "# We pass some validation for monitoring validation loss and metrics at the end of each epoch\n",
    "\n",
    "print(\"Fit model on training data\")\n",
    "history = model.fit(X_train,y_train,batch_size=64,epochs=100,validation_data=(X_test, y_test), verbose=1)"
   ]
  },
  {
   "cell_type": "code",
   "execution_count": 90,
   "metadata": {},
   "outputs": [],
   "source": [
    "# X_train,y_train : training data\n",
    "# batch_size=64   : number of samples in each batch , update its weights after processing 64 training examples at a time.\n",
    "# epochs =100     : 1 fp + 1 bp ,  model will see training data 100 times during training.\n",
    "\n",
    "# validation_data : test data\n",
    "# verbose=1"
   ]
  },
  {
   "cell_type": "code",
   "execution_count": 105,
   "metadata": {
    "colab": {
     "base_uri": "https://localhost:8080/"
    },
    "executionInfo": {
     "elapsed": 30,
     "status": "ok",
     "timestamp": 1643627871640,
     "user": {
      "displayName": "siddharth patra",
      "photoUrl": "https://lh3.googleusercontent.com/a-/AOh14Ggv4lQRGyP7p3T0gn2CLL_T-zAq_F4BJx6kWGs1UA=s64",
      "userId": "01966341811263607507"
     },
     "user_tz": -330
    },
    "id": "QCZuNjYk5Hml",
    "outputId": "f81f0089-8bd5-4c44-80cd-1058c69efe24"
   },
   "outputs": [
    {
     "data": {
      "text/plain": [
       "array([[[ 90],\n",
       "        [100],\n",
       "        [110],\n",
       "        [120],\n",
       "        [130],\n",
       "        [140],\n",
       "        [150]]])"
      ]
     },
     "execution_count": 105,
     "metadata": {},
     "output_type": "execute_result"
    }
   ],
   "source": [
    "# Predicting on data:\n",
    "\n",
    "test_data = np.array([ 90,100, 110, 120, 130, 140 ,150 ])\n",
    "test_data = test_data.reshape((1, n_steps, n_features))\n",
    "test_data"
   ]
  },
  {
   "cell_type": "code",
   "execution_count": 106,
   "metadata": {
    "colab": {
     "base_uri": "https://localhost:8080/"
    },
    "executionInfo": {
     "elapsed": 656,
     "status": "ok",
     "timestamp": 1643627872270,
     "user": {
      "displayName": "siddharth patra",
      "photoUrl": "https://lh3.googleusercontent.com/a-/AOh14Ggv4lQRGyP7p3T0gn2CLL_T-zAq_F4BJx6kWGs1UA=s64",
      "userId": "01966341811263607507"
     },
     "user_tz": -330
    },
    "id": "hzliOeaR5Oix",
    "outputId": "d4616ec8-f077-4d40-f635-e1d8196d2506"
   },
   "outputs": [
    {
     "name": "stdout",
     "output_type": "stream",
     "text": [
      "1/1 [==============================] - 0s 44ms/step\n",
      "[[160.0176]]\n"
     ]
    }
   ],
   "source": [
    "predictNextNumber = model.predict(test_data, verbose=1)\n",
    "print(predictNextNumber)"
   ]
  },
  {
   "cell_type": "code",
   "execution_count": 94,
   "metadata": {
    "colab": {
     "base_uri": "https://localhost:8080/",
     "height": 294
    },
    "executionInfo": {
     "elapsed": 465,
     "status": "ok",
     "timestamp": 1643627872728,
     "user": {
      "displayName": "siddharth patra",
      "photoUrl": "https://lh3.googleusercontent.com/a-/AOh14Ggv4lQRGyP7p3T0gn2CLL_T-zAq_F4BJx6kWGs1UA=s64",
      "userId": "01966341811263607507"
     },
     "user_tz": -330
    },
    "id": "8BLfMCAXC7mN",
    "outputId": "4eee983f-ede0-4d25-bb4a-dce3def61f90"
   },
   "outputs": [
    {
     "name": "stderr",
     "output_type": "stream",
     "text": [
      "C:\\Users\\CHAITANYA\\AppData\\Local\\Temp\\ipykernel_17552\\2727445254.py:12: UserWarning: Matplotlib is currently using module://matplotlib_inline.backend_inline, which is a non-GUI backend, so cannot show the figure.\n",
      "  fig.show()\n"
     ]
    },
    {
     "data": {
      "image/png": "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\n",
      "text/plain": [
       "<Figure size 432x288 with 1 Axes>"
      ]
     },
     "metadata": {
      "needs_background": "light"
     },
     "output_type": "display_data"
    }
   ],
   "source": [
    "# Building graphs for the model:\n",
    "\n",
    "fig = plt.figure()\n",
    "fig.suptitle(\"Adam, lr=0.001, one hidden layer\")\n",
    "\n",
    "ax = fig.add_subplot(1,1, 1)\n",
    "ax.set_title('Cost')\n",
    "ax.plot(history.history['loss'], label='Training')\n",
    "ax.plot(history.history['val_loss'], label='Validation')\n",
    "ax.legend()\n",
    "\n",
    "fig.show()"
   ]
  },
  {
   "cell_type": "code",
   "execution_count": null,
   "metadata": {
    "id": "9xZinBiG233J"
   },
   "outputs": [],
   "source": []
  },
  {
   "cell_type": "code",
   "execution_count": null,
   "metadata": {},
   "outputs": [],
   "source": []
  },
  {
   "cell_type": "code",
   "execution_count": null,
   "metadata": {},
   "outputs": [],
   "source": []
  }
 ],
 "metadata": {
  "colab": {
   "authorship_tag": "ABX9TyNgsbRTjvREgfvIuC1CCZq2",
   "collapsed_sections": [],
   "name": "Number-Sequence.ipynb",
   "provenance": []
  },
  "kernelspec": {
   "display_name": "Python 3 (ipykernel)",
   "language": "python",
   "name": "python3"
  },
  "language_info": {
   "codemirror_mode": {
    "name": "ipython",
    "version": 3
   },
   "file_extension": ".py",
   "mimetype": "text/x-python",
   "name": "python",
   "nbconvert_exporter": "python",
   "pygments_lexer": "ipython3",
   "version": "3.9.12"
  }
 },
 "nbformat": 4,
 "nbformat_minor": 1
}
